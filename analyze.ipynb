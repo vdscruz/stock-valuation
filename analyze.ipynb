{
 "cells": [
  {
   "cell_type": "code",
   "execution_count": null,
   "metadata": {},
   "outputs": [],
   "source": []
  },
  {
   "cell_type": "code",
   "execution_count": 23,
   "metadata": {},
   "outputs": [],
   "source": [
    "import pandas as pd\n",
    "import matplotlib.pyplot as plt\n",
    "from datetime import datetime\n",
    "from suport import download, load_json\n",
    "\n",
    "%matplotlib inline"
   ]
  },
  {
   "cell_type": "code",
   "execution_count": 2,
   "metadata": {},
   "outputs": [],
   "source": [
    "stocks_path = 'jsons/stocks.json'\n",
    "metrics_path = 'jsons/metrics/{}.json'\n",
    "balance_path = 'jsons/balance/{}.json'\n",
    "valuation_path = 'jsons/valuation/{}.json'"
   ]
  },
  {
   "cell_type": "markdown",
   "metadata": {},
   "source": [
    "# Dados\n",
    "\n",
    "Todos os dados foram encontrados no site https://financialmodelingprep.com/ que tem uma api simples e com bastante dados.\n",
    "Os passos a seguir são:\n",
    "\n",
    "- 1 - Baixar a lista de todas as ações (https://financialmodelingprep.com/api/v3/company/stock/list)\n",
    "- 2 - Baixar todas as métricas das ações por quarter (https://financialmodelingprep.com/api/v3/company-key-metrics/{}?period=quarter)\n",
    "- 3 - Baixar dados de balanço das ações por quarter (https://financialmodelingprep.com/api/v3/financials/balance-sheet-statement/{}?period=quarter)\n",
    "- 4 - Baixar dados de valor de mercado da empresa por quarter (https://financialmodelingprep.com/api/v3/enterprise-value/{}?period=quarter)\n",
    "\n",
    "\n",
    "Para fazer isso e não sujar muito o notebook eu criei um .py para auxiliar nessa tarefa e outras..."
   ]
  },
  {
   "cell_type": "code",
   "execution_count": 3,
   "metadata": {},
   "outputs": [
    {
     "name": "stdout",
     "output_type": "stream",
     "text": [
      "Download SPY index 0 ...\n",
      "Download BZUN index 1000 ...\n",
      "Download APAM index 2000 ...\n",
      "Download ARLZ index 3000 ...\n",
      "Download FM index 4000 ...\n",
      "Download CHA index 5000 ...\n",
      "Download DDT index 6000 ...\n",
      "Download MFO index 7000 ...\n",
      "Download CVIA index 8000 ...\n",
      "Download MLCLP.PA index 9000 ...\n",
      "Download ZEO.TO index 10000 ...\n",
      "Download FLRAX index 11000 ...\n",
      "Download SGIIX index 12000 ...\n",
      "Download XBIOW index 13000 ...\n",
      "Download PSHG index 14000 ...\n"
     ]
    }
   ],
   "source": [
    "#Insira True para forçar o download de todos os dados novamente, False só irá baixar o que não tem salvo\n",
    "download(False) "
   ]
  },
  {
   "cell_type": "code",
   "execution_count": 10,
   "metadata": {},
   "outputs": [],
   "source": [
    "#stocks = load_json(stocks_path)['symbolsList']\n",
    "stocks = []"
   ]
  },
  {
   "cell_type": "code",
   "execution_count": 11,
   "metadata": {},
   "outputs": [],
   "source": [
    "#criar uma lista das ações com dados de balanço, metricas e valuation de 2020\n",
    "for stock in load_json(stocks_path)['symbolsList']:\n",
    "    _m = load_json(metrics_path.format(stock['symbol']))\n",
    "    _b = load_json(balance_path.format(stock['symbol']))\n",
    "    _v = load_json(valuation_path.format(stock['symbol']))\n",
    "    \n",
    "    m = len(_m) > 0 and '2020' in _m[0]['date']\n",
    "    b = len(_b) > 0 and '2020' in _b[0]['date']\n",
    "    v = len(_v) > 0 and '2020' in _v[0]['date']\n",
    "    \n",
    "    if m and b and v:\n",
    "        stock['metrics'] = _m\n",
    "        stock['balance'] = _b\n",
    "        stock['valuation'] = _v\n",
    "        stocks.append(stock)"
   ]
  },
  {
   "cell_type": "code",
   "execution_count": 13,
   "metadata": {},
   "outputs": [
    {
     "data": {
      "text/plain": [
       "2512"
      ]
     },
     "execution_count": 13,
     "metadata": {},
     "output_type": "execute_result"
    }
   ],
   "source": [
    "len(stocks)"
   ]
  },
  {
   "cell_type": "markdown",
   "metadata": {},
   "source": [
    "# 1. Value Investing\n",
    "\n",
    "Em resumo, as empresas tem um valor intrínseco, que costuma crescer ao longo do tempo se é uma boa empresa. Mas em alguns momentos, seja por crises ou eventos que impactam os mercados, algumas empresas podem se descolar do seu valor intrínseco.\n",
    "Nesses momento é dito que tais empresas estão com desconto, em relação ao seu valor intrínseco (VI). O VI será um dos critérios na escolha das ações americanas. Mas existem sub-grupos dentro do Value Investing. \n",
    "\n",
    "\n",
    "### 1.1 Deep Value Investing\n",
    "\n",
    "São ações abaixo do valor de liquidação. O valor de Liquidação é são os ativos (caixa, estoques, contas a receber e imobilizados... terrenos e etc...) menos passivos (dividas longo e curto prazo.. fornecedores). É importante aqui considerar um certo nível de inadimplência nas contas a receber.\n",
    "\n",
    "Comparando esse valor de liquidação com o valor atual de mercado, essa ação está com desconto? \n",
    "\n",
    "Se sim, é uma boa ação para comprar usando apenas esse critério.\n",
    "\n",
    "Porém existem armadilhas, existem empresas que por anos consecutivos estão abaixo do seu valor de liquidação. O intuito é achar exatamente ações que eventualmente caiu nessa situação.\n",
    "\n",
    "### 1.2 High Quality Investing\n",
    "\n",
    "Empresas que geram retorno sobre capital elevado. A ideia aqui é buscar ativos focando na qualidade dos ativos. São parametros que indicam qualidade de um ativo.\n",
    "\n",
    "- Margens elevadas e estáveis\n",
    "- Alta rentabilidade\n",
    "- Forte geração de caixa\n",
    "- Baixo endividamento\n",
    "- Crescimento\n",
    "- Gestão competente\n",
    "\n",
    "Referências\n",
    "- https://comoinvestir.thecap.com.br/o-que-e-value-investing/\n",
    "- https://www.youtube.com/watch?v=7I2W57K13WM"
   ]
  },
  {
   "cell_type": "markdown",
   "metadata": {},
   "source": [
    "## Calculando VI\n",
    "\n",
    "### Vamos usar\n",
    "\n",
    "#### Em Métricas\n",
    "\n",
    "- LPA (Lucro por Ação) | Net Income per Share\n",
    "- VPA (Valor Patrimonial por Ação) | Shareholders Equity per Share"
   ]
  },
  {
   "cell_type": "code",
   "execution_count": 72,
   "metadata": {},
   "outputs": [],
   "source": [
    "import plotly.express as px\n",
    "import plotly.graph_objects as go\n",
    "import math"
   ]
  },
  {
   "cell_type": "code",
   "execution_count": 83,
   "metadata": {},
   "outputs": [
    {
     "name": "stdout",
     "output_type": "stream",
     "text": [
      "Apple Inc. - AAPL from Nasdaq Global Select\n"
     ]
    }
   ],
   "source": [
    "s = stocks[3] # 3 - Apple\n",
    "print('{} - {} from {}'.format(s['name'], s['symbol'], s['exchange']))\n",
    "dates_metrics = []\n",
    "dates_valuation = []\n",
    "lpa = []\n",
    "vpa = []\n",
    "vi = []\n",
    "prices = []\n",
    "\n",
    "for _ in s['metrics']:\n",
    "    dates_metrics.append(_['date'])\n",
    "    _lpa = float(_['Net Income per Share'])\n",
    "    _vpa = float(_['Shareholders Equity per Share'])\n",
    "    #print(_lpa, _vpa, 22.5 * _lpa * _vpa)\n",
    "    _vi = math.sqrt(22.5 * _lpa * _vpa)    \n",
    "    \n",
    "    lpa.append(_lpa) \n",
    "    vpa.append(_vpa)\n",
    "    vi.append(_vi)\n",
    "    \n",
    "for _ in s['valuation']:\n",
    "    dates_valuation.append(_['date'])\n",
    "    _price = float(_['Stock Price'])\n",
    "    prices.append(_price)\n",
    "    \n",
    "#data = {'Dia' : dates,'Lucro por Ação':  lpa,'Valor Patrimonial por Ação': vpa}\n",
    "#df = pd.DataFrame (data)"
   ]
  },
  {
   "cell_type": "code",
   "execution_count": 84,
   "metadata": {},
   "outputs": [
    {
     "data": {
      "application/vnd.plotly.v1+json": {
       "config": {
        "plotlyServerURL": "https://plot.ly"
       },
       "data": [
        {
         "mode": "lines",
         "name": "Valor Intríseco",
         "type": "scatter",
         "x": [
          "2020-03-28",
          "2019-12-28",
          "2019-09-28",
          "2019-06-29",
          "2019-03-30",
          "2018-12-29",
          "2018-09-29",
          "2018-06-30",
          "2018-03-31",
          "2017-12-30",
          "2017-09-30",
          "2017-07-01",
          "2017-04-01",
          "2016-12-31",
          "2016-09-24",
          "2016-06-25",
          "2016-03-26",
          "2015-12-26",
          "2015-09-26",
          "2015-06-27",
          "2015-03-28",
          "2014-12-27",
          "2014-09-27",
          "2014-06-28",
          "2014-03-29",
          "2013-12-28",
          "2013-09-28",
          "2013-06-29",
          "2013-03-30",
          "2012-12-29",
          "2012-09-29",
          "2012-06-30",
          "2012-03-31",
          "2011-12-31",
          "2011-09-24",
          "2011-06-25",
          "2011-03-26",
          "2010-12-25",
          "2010-09-25",
          "2010-06-26",
          "2010-03-27",
          "2009-12-26",
          "2009-09-26",
          "2009-06-27"
         ],
         "y": [
          32.110821974078874,
          47.93708999221241,
          36.148202337407554,
          31.68159291467916,
          35.26958532040484,
          48.592908777075735,
          37.23906725243186,
          34.47504820795723,
          39.18845236227377,
          49.205987730707875,
          34.45518988581391,
          30.75680128825962,
          34.66371226330492,
          43.56824067347762,
          29.479804813625144,
          27.061353177713997,
          31.732383942671742,
          41.41004359460163,
          30.041105018574118,
          30.015534754437173,
          34.10856907343653,
          38.27416384054025,
          23.954305346424793,
          23.663299037229997,
          187.77936117427984,
          217.95285911451862,
          156.16782221756202,
          148.4211346798319,
          181.62954846578853,
          206.17112452682733,
          158.19998816573258,
          159.53121287347352,
          175.61031035379617,
          174.74793106540866,
          115.60651813595071,
          115.69889096786017,
          98.78183228007012,
          93.47938010241553,
          74.83729563951574,
          61.880717465897966,
          83.46218167221495,
          8.269906267943814,
          6.77055272739014,
          5.215944665000694
         ]
        },
        {
         "mode": "lines",
         "name": "Valor Da Ação",
         "type": "scatter",
         "x": [
          "2020-03-28",
          "2019-12-28",
          "2019-09-28",
          "2019-06-29",
          "2019-03-30",
          "2018-12-29",
          "2018-09-29",
          "2018-06-30",
          "2018-03-31",
          "2017-12-30",
          "2017-09-30",
          "2017-07-01",
          "2017-04-01",
          "2016-12-31",
          "2016-09-24",
          "2016-06-25",
          "2016-03-26",
          "2015-12-26",
          "2015-09-26",
          "2015-06-27",
          "2015-03-28",
          "2014-12-27",
          "2014-09-27",
          "2014-06-28",
          "2014-03-29",
          "2013-12-28",
          "2013-09-28",
          "2013-06-29",
          "2013-03-30",
          "2012-12-29",
          "2012-09-29",
          "2012-06-30",
          "2012-03-31",
          "2011-12-31",
          "2011-09-24",
          "2011-06-25",
          "2011-03-26",
          "2010-12-25",
          "2010-09-25",
          "2010-06-26",
          "2010-03-27",
          "2009-12-26",
          "2009-09-26",
          "2009-06-27"
         ],
         "y": [
          283.17,
          308.95,
          249.05,
          209.68,
          204.61,
          156.3,
          212.24,
          189.91,
          165.26,
          167.96,
          166.72,
          148.73,
          146.58,
          121.63,
          117.65,
          97.34,
          105.08,
          99.44,
          115.28,
          122.77,
          132.65,
          113.1,
          105.11,
          99.02,
          84.87,
          78.64,
          75.7,
          63.97,
          61.45,
          64.26,
          86.29,
          85,
          83.43,
          64.72,
          57.97,
          56.93,
          50.43,
          48.21,
          44.12,
          37.04,
          38.5,
          29.01,
          28.93,
          22.87
         ]
        }
       ],
       "layout": {
        "template": {
         "data": {
          "bar": [
           {
            "error_x": {
             "color": "#2a3f5f"
            },
            "error_y": {
             "color": "#2a3f5f"
            },
            "marker": {
             "line": {
              "color": "#E5ECF6",
              "width": 0.5
             }
            },
            "type": "bar"
           }
          ],
          "barpolar": [
           {
            "marker": {
             "line": {
              "color": "#E5ECF6",
              "width": 0.5
             }
            },
            "type": "barpolar"
           }
          ],
          "carpet": [
           {
            "aaxis": {
             "endlinecolor": "#2a3f5f",
             "gridcolor": "white",
             "linecolor": "white",
             "minorgridcolor": "white",
             "startlinecolor": "#2a3f5f"
            },
            "baxis": {
             "endlinecolor": "#2a3f5f",
             "gridcolor": "white",
             "linecolor": "white",
             "minorgridcolor": "white",
             "startlinecolor": "#2a3f5f"
            },
            "type": "carpet"
           }
          ],
          "choropleth": [
           {
            "colorbar": {
             "outlinewidth": 0,
             "ticks": ""
            },
            "type": "choropleth"
           }
          ],
          "contour": [
           {
            "colorbar": {
             "outlinewidth": 0,
             "ticks": ""
            },
            "colorscale": [
             [
              0,
              "#0d0887"
             ],
             [
              0.1111111111111111,
              "#46039f"
             ],
             [
              0.2222222222222222,
              "#7201a8"
             ],
             [
              0.3333333333333333,
              "#9c179e"
             ],
             [
              0.4444444444444444,
              "#bd3786"
             ],
             [
              0.5555555555555556,
              "#d8576b"
             ],
             [
              0.6666666666666666,
              "#ed7953"
             ],
             [
              0.7777777777777778,
              "#fb9f3a"
             ],
             [
              0.8888888888888888,
              "#fdca26"
             ],
             [
              1,
              "#f0f921"
             ]
            ],
            "type": "contour"
           }
          ],
          "contourcarpet": [
           {
            "colorbar": {
             "outlinewidth": 0,
             "ticks": ""
            },
            "type": "contourcarpet"
           }
          ],
          "heatmap": [
           {
            "colorbar": {
             "outlinewidth": 0,
             "ticks": ""
            },
            "colorscale": [
             [
              0,
              "#0d0887"
             ],
             [
              0.1111111111111111,
              "#46039f"
             ],
             [
              0.2222222222222222,
              "#7201a8"
             ],
             [
              0.3333333333333333,
              "#9c179e"
             ],
             [
              0.4444444444444444,
              "#bd3786"
             ],
             [
              0.5555555555555556,
              "#d8576b"
             ],
             [
              0.6666666666666666,
              "#ed7953"
             ],
             [
              0.7777777777777778,
              "#fb9f3a"
             ],
             [
              0.8888888888888888,
              "#fdca26"
             ],
             [
              1,
              "#f0f921"
             ]
            ],
            "type": "heatmap"
           }
          ],
          "heatmapgl": [
           {
            "colorbar": {
             "outlinewidth": 0,
             "ticks": ""
            },
            "colorscale": [
             [
              0,
              "#0d0887"
             ],
             [
              0.1111111111111111,
              "#46039f"
             ],
             [
              0.2222222222222222,
              "#7201a8"
             ],
             [
              0.3333333333333333,
              "#9c179e"
             ],
             [
              0.4444444444444444,
              "#bd3786"
             ],
             [
              0.5555555555555556,
              "#d8576b"
             ],
             [
              0.6666666666666666,
              "#ed7953"
             ],
             [
              0.7777777777777778,
              "#fb9f3a"
             ],
             [
              0.8888888888888888,
              "#fdca26"
             ],
             [
              1,
              "#f0f921"
             ]
            ],
            "type": "heatmapgl"
           }
          ],
          "histogram": [
           {
            "marker": {
             "colorbar": {
              "outlinewidth": 0,
              "ticks": ""
             }
            },
            "type": "histogram"
           }
          ],
          "histogram2d": [
           {
            "colorbar": {
             "outlinewidth": 0,
             "ticks": ""
            },
            "colorscale": [
             [
              0,
              "#0d0887"
             ],
             [
              0.1111111111111111,
              "#46039f"
             ],
             [
              0.2222222222222222,
              "#7201a8"
             ],
             [
              0.3333333333333333,
              "#9c179e"
             ],
             [
              0.4444444444444444,
              "#bd3786"
             ],
             [
              0.5555555555555556,
              "#d8576b"
             ],
             [
              0.6666666666666666,
              "#ed7953"
             ],
             [
              0.7777777777777778,
              "#fb9f3a"
             ],
             [
              0.8888888888888888,
              "#fdca26"
             ],
             [
              1,
              "#f0f921"
             ]
            ],
            "type": "histogram2d"
           }
          ],
          "histogram2dcontour": [
           {
            "colorbar": {
             "outlinewidth": 0,
             "ticks": ""
            },
            "colorscale": [
             [
              0,
              "#0d0887"
             ],
             [
              0.1111111111111111,
              "#46039f"
             ],
             [
              0.2222222222222222,
              "#7201a8"
             ],
             [
              0.3333333333333333,
              "#9c179e"
             ],
             [
              0.4444444444444444,
              "#bd3786"
             ],
             [
              0.5555555555555556,
              "#d8576b"
             ],
             [
              0.6666666666666666,
              "#ed7953"
             ],
             [
              0.7777777777777778,
              "#fb9f3a"
             ],
             [
              0.8888888888888888,
              "#fdca26"
             ],
             [
              1,
              "#f0f921"
             ]
            ],
            "type": "histogram2dcontour"
           }
          ],
          "mesh3d": [
           {
            "colorbar": {
             "outlinewidth": 0,
             "ticks": ""
            },
            "type": "mesh3d"
           }
          ],
          "parcoords": [
           {
            "line": {
             "colorbar": {
              "outlinewidth": 0,
              "ticks": ""
             }
            },
            "type": "parcoords"
           }
          ],
          "pie": [
           {
            "automargin": true,
            "type": "pie"
           }
          ],
          "scatter": [
           {
            "marker": {
             "colorbar": {
              "outlinewidth": 0,
              "ticks": ""
             }
            },
            "type": "scatter"
           }
          ],
          "scatter3d": [
           {
            "line": {
             "colorbar": {
              "outlinewidth": 0,
              "ticks": ""
             }
            },
            "marker": {
             "colorbar": {
              "outlinewidth": 0,
              "ticks": ""
             }
            },
            "type": "scatter3d"
           }
          ],
          "scattercarpet": [
           {
            "marker": {
             "colorbar": {
              "outlinewidth": 0,
              "ticks": ""
             }
            },
            "type": "scattercarpet"
           }
          ],
          "scattergeo": [
           {
            "marker": {
             "colorbar": {
              "outlinewidth": 0,
              "ticks": ""
             }
            },
            "type": "scattergeo"
           }
          ],
          "scattergl": [
           {
            "marker": {
             "colorbar": {
              "outlinewidth": 0,
              "ticks": ""
             }
            },
            "type": "scattergl"
           }
          ],
          "scattermapbox": [
           {
            "marker": {
             "colorbar": {
              "outlinewidth": 0,
              "ticks": ""
             }
            },
            "type": "scattermapbox"
           }
          ],
          "scatterpolar": [
           {
            "marker": {
             "colorbar": {
              "outlinewidth": 0,
              "ticks": ""
             }
            },
            "type": "scatterpolar"
           }
          ],
          "scatterpolargl": [
           {
            "marker": {
             "colorbar": {
              "outlinewidth": 0,
              "ticks": ""
             }
            },
            "type": "scatterpolargl"
           }
          ],
          "scatterternary": [
           {
            "marker": {
             "colorbar": {
              "outlinewidth": 0,
              "ticks": ""
             }
            },
            "type": "scatterternary"
           }
          ],
          "surface": [
           {
            "colorbar": {
             "outlinewidth": 0,
             "ticks": ""
            },
            "colorscale": [
             [
              0,
              "#0d0887"
             ],
             [
              0.1111111111111111,
              "#46039f"
             ],
             [
              0.2222222222222222,
              "#7201a8"
             ],
             [
              0.3333333333333333,
              "#9c179e"
             ],
             [
              0.4444444444444444,
              "#bd3786"
             ],
             [
              0.5555555555555556,
              "#d8576b"
             ],
             [
              0.6666666666666666,
              "#ed7953"
             ],
             [
              0.7777777777777778,
              "#fb9f3a"
             ],
             [
              0.8888888888888888,
              "#fdca26"
             ],
             [
              1,
              "#f0f921"
             ]
            ],
            "type": "surface"
           }
          ],
          "table": [
           {
            "cells": {
             "fill": {
              "color": "#EBF0F8"
             },
             "line": {
              "color": "white"
             }
            },
            "header": {
             "fill": {
              "color": "#C8D4E3"
             },
             "line": {
              "color": "white"
             }
            },
            "type": "table"
           }
          ]
         },
         "layout": {
          "annotationdefaults": {
           "arrowcolor": "#2a3f5f",
           "arrowhead": 0,
           "arrowwidth": 1
          },
          "coloraxis": {
           "colorbar": {
            "outlinewidth": 0,
            "ticks": ""
           }
          },
          "colorscale": {
           "diverging": [
            [
             0,
             "#8e0152"
            ],
            [
             0.1,
             "#c51b7d"
            ],
            [
             0.2,
             "#de77ae"
            ],
            [
             0.3,
             "#f1b6da"
            ],
            [
             0.4,
             "#fde0ef"
            ],
            [
             0.5,
             "#f7f7f7"
            ],
            [
             0.6,
             "#e6f5d0"
            ],
            [
             0.7,
             "#b8e186"
            ],
            [
             0.8,
             "#7fbc41"
            ],
            [
             0.9,
             "#4d9221"
            ],
            [
             1,
             "#276419"
            ]
           ],
           "sequential": [
            [
             0,
             "#0d0887"
            ],
            [
             0.1111111111111111,
             "#46039f"
            ],
            [
             0.2222222222222222,
             "#7201a8"
            ],
            [
             0.3333333333333333,
             "#9c179e"
            ],
            [
             0.4444444444444444,
             "#bd3786"
            ],
            [
             0.5555555555555556,
             "#d8576b"
            ],
            [
             0.6666666666666666,
             "#ed7953"
            ],
            [
             0.7777777777777778,
             "#fb9f3a"
            ],
            [
             0.8888888888888888,
             "#fdca26"
            ],
            [
             1,
             "#f0f921"
            ]
           ],
           "sequentialminus": [
            [
             0,
             "#0d0887"
            ],
            [
             0.1111111111111111,
             "#46039f"
            ],
            [
             0.2222222222222222,
             "#7201a8"
            ],
            [
             0.3333333333333333,
             "#9c179e"
            ],
            [
             0.4444444444444444,
             "#bd3786"
            ],
            [
             0.5555555555555556,
             "#d8576b"
            ],
            [
             0.6666666666666666,
             "#ed7953"
            ],
            [
             0.7777777777777778,
             "#fb9f3a"
            ],
            [
             0.8888888888888888,
             "#fdca26"
            ],
            [
             1,
             "#f0f921"
            ]
           ]
          },
          "colorway": [
           "#636efa",
           "#EF553B",
           "#00cc96",
           "#ab63fa",
           "#FFA15A",
           "#19d3f3",
           "#FF6692",
           "#B6E880",
           "#FF97FF",
           "#FECB52"
          ],
          "font": {
           "color": "#2a3f5f"
          },
          "geo": {
           "bgcolor": "white",
           "lakecolor": "white",
           "landcolor": "#E5ECF6",
           "showlakes": true,
           "showland": true,
           "subunitcolor": "white"
          },
          "hoverlabel": {
           "align": "left"
          },
          "hovermode": "closest",
          "mapbox": {
           "style": "light"
          },
          "paper_bgcolor": "white",
          "plot_bgcolor": "#E5ECF6",
          "polar": {
           "angularaxis": {
            "gridcolor": "white",
            "linecolor": "white",
            "ticks": ""
           },
           "bgcolor": "#E5ECF6",
           "radialaxis": {
            "gridcolor": "white",
            "linecolor": "white",
            "ticks": ""
           }
          },
          "scene": {
           "xaxis": {
            "backgroundcolor": "#E5ECF6",
            "gridcolor": "white",
            "gridwidth": 2,
            "linecolor": "white",
            "showbackground": true,
            "ticks": "",
            "zerolinecolor": "white"
           },
           "yaxis": {
            "backgroundcolor": "#E5ECF6",
            "gridcolor": "white",
            "gridwidth": 2,
            "linecolor": "white",
            "showbackground": true,
            "ticks": "",
            "zerolinecolor": "white"
           },
           "zaxis": {
            "backgroundcolor": "#E5ECF6",
            "gridcolor": "white",
            "gridwidth": 2,
            "linecolor": "white",
            "showbackground": true,
            "ticks": "",
            "zerolinecolor": "white"
           }
          },
          "shapedefaults": {
           "line": {
            "color": "#2a3f5f"
           }
          },
          "ternary": {
           "aaxis": {
            "gridcolor": "white",
            "linecolor": "white",
            "ticks": ""
           },
           "baxis": {
            "gridcolor": "white",
            "linecolor": "white",
            "ticks": ""
           },
           "bgcolor": "#E5ECF6",
           "caxis": {
            "gridcolor": "white",
            "linecolor": "white",
            "ticks": ""
           }
          },
          "title": {
           "x": 0.05
          },
          "xaxis": {
           "automargin": true,
           "gridcolor": "white",
           "linecolor": "white",
           "ticks": "",
           "title": {
            "standoff": 15
           },
           "zerolinecolor": "white",
           "zerolinewidth": 2
          },
          "yaxis": {
           "automargin": true,
           "gridcolor": "white",
           "linecolor": "white",
           "ticks": "",
           "title": {
            "standoff": 15
           },
           "zerolinecolor": "white",
           "zerolinewidth": 2
          }
         }
        }
       }
      },
      "text/html": [
       "<div>\n",
       "        \n",
       "        \n",
       "            <div id=\"9f8be3ad-175b-4c48-99af-75aa2577545a\" class=\"plotly-graph-div\" style=\"height:525px; width:100%;\"></div>\n",
       "            <script type=\"text/javascript\">\n",
       "                require([\"plotly\"], function(Plotly) {\n",
       "                    window.PLOTLYENV=window.PLOTLYENV || {};\n",
       "                    \n",
       "                if (document.getElementById(\"9f8be3ad-175b-4c48-99af-75aa2577545a\")) {\n",
       "                    Plotly.newPlot(\n",
       "                        '9f8be3ad-175b-4c48-99af-75aa2577545a',\n",
       "                        [{\"mode\": \"lines\", \"name\": \"Valor Intr\\u00edseco\", \"type\": \"scatter\", \"x\": [\"2020-03-28\", \"2019-12-28\", \"2019-09-28\", \"2019-06-29\", \"2019-03-30\", \"2018-12-29\", \"2018-09-29\", \"2018-06-30\", \"2018-03-31\", \"2017-12-30\", \"2017-09-30\", \"2017-07-01\", \"2017-04-01\", \"2016-12-31\", \"2016-09-24\", \"2016-06-25\", \"2016-03-26\", \"2015-12-26\", \"2015-09-26\", \"2015-06-27\", \"2015-03-28\", \"2014-12-27\", \"2014-09-27\", \"2014-06-28\", \"2014-03-29\", \"2013-12-28\", \"2013-09-28\", \"2013-06-29\", \"2013-03-30\", \"2012-12-29\", \"2012-09-29\", \"2012-06-30\", \"2012-03-31\", \"2011-12-31\", \"2011-09-24\", \"2011-06-25\", \"2011-03-26\", \"2010-12-25\", \"2010-09-25\", \"2010-06-26\", \"2010-03-27\", \"2009-12-26\", \"2009-09-26\", \"2009-06-27\"], \"y\": [32.110821974078874, 47.93708999221241, 36.148202337407554, 31.68159291467916, 35.26958532040484, 48.592908777075735, 37.23906725243186, 34.47504820795723, 39.18845236227377, 49.205987730707875, 34.45518988581391, 30.75680128825962, 34.66371226330492, 43.56824067347762, 29.479804813625144, 27.061353177713997, 31.732383942671742, 41.41004359460163, 30.041105018574118, 30.015534754437173, 34.10856907343653, 38.27416384054025, 23.954305346424793, 23.663299037229997, 187.77936117427984, 217.95285911451862, 156.16782221756202, 148.4211346798319, 181.62954846578853, 206.17112452682733, 158.19998816573258, 159.53121287347352, 175.61031035379617, 174.74793106540866, 115.60651813595071, 115.69889096786017, 98.78183228007012, 93.47938010241553, 74.83729563951574, 61.880717465897966, 83.46218167221495, 8.269906267943814, 6.77055272739014, 5.215944665000694]}, {\"mode\": \"lines\", \"name\": \"Valor Da A\\u00e7\\u00e3o\", \"type\": \"scatter\", \"x\": [\"2020-03-28\", \"2019-12-28\", \"2019-09-28\", \"2019-06-29\", \"2019-03-30\", \"2018-12-29\", \"2018-09-29\", \"2018-06-30\", \"2018-03-31\", \"2017-12-30\", \"2017-09-30\", \"2017-07-01\", \"2017-04-01\", \"2016-12-31\", \"2016-09-24\", \"2016-06-25\", \"2016-03-26\", \"2015-12-26\", \"2015-09-26\", \"2015-06-27\", \"2015-03-28\", \"2014-12-27\", \"2014-09-27\", \"2014-06-28\", \"2014-03-29\", \"2013-12-28\", \"2013-09-28\", \"2013-06-29\", \"2013-03-30\", \"2012-12-29\", \"2012-09-29\", \"2012-06-30\", \"2012-03-31\", \"2011-12-31\", \"2011-09-24\", \"2011-06-25\", \"2011-03-26\", \"2010-12-25\", \"2010-09-25\", \"2010-06-26\", \"2010-03-27\", \"2009-12-26\", \"2009-09-26\", \"2009-06-27\"], \"y\": [283.17, 308.95, 249.05, 209.68, 204.61, 156.3, 212.24, 189.91, 165.26, 167.96, 166.72, 148.73, 146.58, 121.63, 117.65, 97.34, 105.08, 99.44, 115.28, 122.77, 132.65, 113.1, 105.11, 99.02, 84.87, 78.64, 75.7, 63.97, 61.45, 64.26, 86.29, 85.0, 83.43, 64.72, 57.97, 56.93, 50.43, 48.21, 44.12, 37.04, 38.5, 29.01, 28.93, 22.87]}],\n",
       "                        {\"template\": {\"data\": {\"bar\": [{\"error_x\": {\"color\": \"#2a3f5f\"}, \"error_y\": {\"color\": \"#2a3f5f\"}, \"marker\": {\"line\": {\"color\": \"#E5ECF6\", \"width\": 0.5}}, \"type\": \"bar\"}], \"barpolar\": [{\"marker\": {\"line\": {\"color\": \"#E5ECF6\", \"width\": 0.5}}, \"type\": \"barpolar\"}], \"carpet\": [{\"aaxis\": {\"endlinecolor\": \"#2a3f5f\", \"gridcolor\": \"white\", \"linecolor\": \"white\", \"minorgridcolor\": \"white\", \"startlinecolor\": \"#2a3f5f\"}, \"baxis\": {\"endlinecolor\": \"#2a3f5f\", \"gridcolor\": \"white\", \"linecolor\": \"white\", \"minorgridcolor\": \"white\", \"startlinecolor\": \"#2a3f5f\"}, \"type\": \"carpet\"}], \"choropleth\": [{\"colorbar\": {\"outlinewidth\": 0, \"ticks\": \"\"}, \"type\": \"choropleth\"}], \"contour\": [{\"colorbar\": {\"outlinewidth\": 0, \"ticks\": \"\"}, \"colorscale\": [[0.0, \"#0d0887\"], [0.1111111111111111, \"#46039f\"], [0.2222222222222222, \"#7201a8\"], [0.3333333333333333, \"#9c179e\"], [0.4444444444444444, \"#bd3786\"], [0.5555555555555556, \"#d8576b\"], [0.6666666666666666, \"#ed7953\"], [0.7777777777777778, \"#fb9f3a\"], [0.8888888888888888, \"#fdca26\"], [1.0, \"#f0f921\"]], \"type\": \"contour\"}], \"contourcarpet\": [{\"colorbar\": {\"outlinewidth\": 0, \"ticks\": \"\"}, \"type\": \"contourcarpet\"}], \"heatmap\": [{\"colorbar\": {\"outlinewidth\": 0, \"ticks\": \"\"}, \"colorscale\": [[0.0, \"#0d0887\"], [0.1111111111111111, \"#46039f\"], [0.2222222222222222, \"#7201a8\"], [0.3333333333333333, \"#9c179e\"], [0.4444444444444444, \"#bd3786\"], [0.5555555555555556, \"#d8576b\"], [0.6666666666666666, \"#ed7953\"], [0.7777777777777778, \"#fb9f3a\"], [0.8888888888888888, \"#fdca26\"], [1.0, \"#f0f921\"]], \"type\": \"heatmap\"}], \"heatmapgl\": [{\"colorbar\": {\"outlinewidth\": 0, \"ticks\": \"\"}, \"colorscale\": [[0.0, \"#0d0887\"], [0.1111111111111111, \"#46039f\"], [0.2222222222222222, \"#7201a8\"], [0.3333333333333333, \"#9c179e\"], [0.4444444444444444, \"#bd3786\"], [0.5555555555555556, \"#d8576b\"], [0.6666666666666666, \"#ed7953\"], [0.7777777777777778, \"#fb9f3a\"], [0.8888888888888888, \"#fdca26\"], [1.0, \"#f0f921\"]], \"type\": \"heatmapgl\"}], \"histogram\": [{\"marker\": {\"colorbar\": {\"outlinewidth\": 0, \"ticks\": \"\"}}, \"type\": \"histogram\"}], \"histogram2d\": [{\"colorbar\": {\"outlinewidth\": 0, \"ticks\": \"\"}, \"colorscale\": [[0.0, \"#0d0887\"], [0.1111111111111111, \"#46039f\"], [0.2222222222222222, \"#7201a8\"], [0.3333333333333333, \"#9c179e\"], [0.4444444444444444, \"#bd3786\"], [0.5555555555555556, \"#d8576b\"], [0.6666666666666666, \"#ed7953\"], [0.7777777777777778, \"#fb9f3a\"], [0.8888888888888888, \"#fdca26\"], [1.0, \"#f0f921\"]], \"type\": \"histogram2d\"}], \"histogram2dcontour\": [{\"colorbar\": {\"outlinewidth\": 0, \"ticks\": \"\"}, \"colorscale\": [[0.0, \"#0d0887\"], [0.1111111111111111, \"#46039f\"], [0.2222222222222222, \"#7201a8\"], [0.3333333333333333, \"#9c179e\"], [0.4444444444444444, \"#bd3786\"], [0.5555555555555556, \"#d8576b\"], [0.6666666666666666, \"#ed7953\"], [0.7777777777777778, \"#fb9f3a\"], [0.8888888888888888, \"#fdca26\"], [1.0, \"#f0f921\"]], \"type\": \"histogram2dcontour\"}], \"mesh3d\": [{\"colorbar\": {\"outlinewidth\": 0, \"ticks\": \"\"}, \"type\": \"mesh3d\"}], \"parcoords\": [{\"line\": {\"colorbar\": {\"outlinewidth\": 0, \"ticks\": \"\"}}, \"type\": \"parcoords\"}], \"pie\": [{\"automargin\": true, \"type\": \"pie\"}], \"scatter\": [{\"marker\": {\"colorbar\": {\"outlinewidth\": 0, \"ticks\": \"\"}}, \"type\": \"scatter\"}], \"scatter3d\": [{\"line\": {\"colorbar\": {\"outlinewidth\": 0, \"ticks\": \"\"}}, \"marker\": {\"colorbar\": {\"outlinewidth\": 0, \"ticks\": \"\"}}, \"type\": \"scatter3d\"}], \"scattercarpet\": [{\"marker\": {\"colorbar\": {\"outlinewidth\": 0, \"ticks\": \"\"}}, \"type\": \"scattercarpet\"}], \"scattergeo\": [{\"marker\": {\"colorbar\": {\"outlinewidth\": 0, \"ticks\": \"\"}}, \"type\": \"scattergeo\"}], \"scattergl\": [{\"marker\": {\"colorbar\": {\"outlinewidth\": 0, \"ticks\": \"\"}}, \"type\": \"scattergl\"}], \"scattermapbox\": [{\"marker\": {\"colorbar\": {\"outlinewidth\": 0, \"ticks\": \"\"}}, \"type\": \"scattermapbox\"}], \"scatterpolar\": [{\"marker\": {\"colorbar\": {\"outlinewidth\": 0, \"ticks\": \"\"}}, \"type\": \"scatterpolar\"}], \"scatterpolargl\": [{\"marker\": {\"colorbar\": {\"outlinewidth\": 0, \"ticks\": \"\"}}, \"type\": \"scatterpolargl\"}], \"scatterternary\": [{\"marker\": {\"colorbar\": {\"outlinewidth\": 0, \"ticks\": \"\"}}, \"type\": \"scatterternary\"}], \"surface\": [{\"colorbar\": {\"outlinewidth\": 0, \"ticks\": \"\"}, \"colorscale\": [[0.0, \"#0d0887\"], [0.1111111111111111, \"#46039f\"], [0.2222222222222222, \"#7201a8\"], [0.3333333333333333, \"#9c179e\"], [0.4444444444444444, \"#bd3786\"], [0.5555555555555556, \"#d8576b\"], [0.6666666666666666, \"#ed7953\"], [0.7777777777777778, \"#fb9f3a\"], [0.8888888888888888, \"#fdca26\"], [1.0, \"#f0f921\"]], \"type\": \"surface\"}], \"table\": [{\"cells\": {\"fill\": {\"color\": \"#EBF0F8\"}, \"line\": {\"color\": \"white\"}}, \"header\": {\"fill\": {\"color\": \"#C8D4E3\"}, \"line\": {\"color\": \"white\"}}, \"type\": \"table\"}]}, \"layout\": {\"annotationdefaults\": {\"arrowcolor\": \"#2a3f5f\", \"arrowhead\": 0, \"arrowwidth\": 1}, \"coloraxis\": {\"colorbar\": {\"outlinewidth\": 0, \"ticks\": \"\"}}, \"colorscale\": {\"diverging\": [[0, \"#8e0152\"], [0.1, \"#c51b7d\"], [0.2, \"#de77ae\"], [0.3, \"#f1b6da\"], [0.4, \"#fde0ef\"], [0.5, \"#f7f7f7\"], [0.6, \"#e6f5d0\"], [0.7, \"#b8e186\"], [0.8, \"#7fbc41\"], [0.9, \"#4d9221\"], [1, \"#276419\"]], \"sequential\": [[0.0, \"#0d0887\"], [0.1111111111111111, \"#46039f\"], [0.2222222222222222, \"#7201a8\"], [0.3333333333333333, \"#9c179e\"], [0.4444444444444444, \"#bd3786\"], [0.5555555555555556, \"#d8576b\"], [0.6666666666666666, \"#ed7953\"], [0.7777777777777778, \"#fb9f3a\"], [0.8888888888888888, \"#fdca26\"], [1.0, \"#f0f921\"]], \"sequentialminus\": [[0.0, \"#0d0887\"], [0.1111111111111111, \"#46039f\"], [0.2222222222222222, \"#7201a8\"], [0.3333333333333333, \"#9c179e\"], [0.4444444444444444, \"#bd3786\"], [0.5555555555555556, \"#d8576b\"], [0.6666666666666666, \"#ed7953\"], [0.7777777777777778, \"#fb9f3a\"], [0.8888888888888888, \"#fdca26\"], [1.0, \"#f0f921\"]]}, \"colorway\": [\"#636efa\", \"#EF553B\", \"#00cc96\", \"#ab63fa\", \"#FFA15A\", \"#19d3f3\", \"#FF6692\", \"#B6E880\", \"#FF97FF\", \"#FECB52\"], \"font\": {\"color\": \"#2a3f5f\"}, \"geo\": {\"bgcolor\": \"white\", \"lakecolor\": \"white\", \"landcolor\": \"#E5ECF6\", \"showlakes\": true, \"showland\": true, \"subunitcolor\": \"white\"}, \"hoverlabel\": {\"align\": \"left\"}, \"hovermode\": \"closest\", \"mapbox\": {\"style\": \"light\"}, \"paper_bgcolor\": \"white\", \"plot_bgcolor\": \"#E5ECF6\", \"polar\": {\"angularaxis\": {\"gridcolor\": \"white\", \"linecolor\": \"white\", \"ticks\": \"\"}, \"bgcolor\": \"#E5ECF6\", \"radialaxis\": {\"gridcolor\": \"white\", \"linecolor\": \"white\", \"ticks\": \"\"}}, \"scene\": {\"xaxis\": {\"backgroundcolor\": \"#E5ECF6\", \"gridcolor\": \"white\", \"gridwidth\": 2, \"linecolor\": \"white\", \"showbackground\": true, \"ticks\": \"\", \"zerolinecolor\": \"white\"}, \"yaxis\": {\"backgroundcolor\": \"#E5ECF6\", \"gridcolor\": \"white\", \"gridwidth\": 2, \"linecolor\": \"white\", \"showbackground\": true, \"ticks\": \"\", \"zerolinecolor\": \"white\"}, \"zaxis\": {\"backgroundcolor\": \"#E5ECF6\", \"gridcolor\": \"white\", \"gridwidth\": 2, \"linecolor\": \"white\", \"showbackground\": true, \"ticks\": \"\", \"zerolinecolor\": \"white\"}}, \"shapedefaults\": {\"line\": {\"color\": \"#2a3f5f\"}}, \"ternary\": {\"aaxis\": {\"gridcolor\": \"white\", \"linecolor\": \"white\", \"ticks\": \"\"}, \"baxis\": {\"gridcolor\": \"white\", \"linecolor\": \"white\", \"ticks\": \"\"}, \"bgcolor\": \"#E5ECF6\", \"caxis\": {\"gridcolor\": \"white\", \"linecolor\": \"white\", \"ticks\": \"\"}}, \"title\": {\"x\": 0.05}, \"xaxis\": {\"automargin\": true, \"gridcolor\": \"white\", \"linecolor\": \"white\", \"ticks\": \"\", \"title\": {\"standoff\": 15}, \"zerolinecolor\": \"white\", \"zerolinewidth\": 2}, \"yaxis\": {\"automargin\": true, \"gridcolor\": \"white\", \"linecolor\": \"white\", \"ticks\": \"\", \"title\": {\"standoff\": 15}, \"zerolinecolor\": \"white\", \"zerolinewidth\": 2}}}},\n",
       "                        {\"responsive\": true}\n",
       "                    ).then(function(){\n",
       "                            \n",
       "var gd = document.getElementById('9f8be3ad-175b-4c48-99af-75aa2577545a');\n",
       "var x = new MutationObserver(function (mutations, observer) {{\n",
       "        var display = window.getComputedStyle(gd).display;\n",
       "        if (!display || display === 'none') {{\n",
       "            console.log([gd, 'removed!']);\n",
       "            Plotly.purge(gd);\n",
       "            observer.disconnect();\n",
       "        }}\n",
       "}});\n",
       "\n",
       "// Listen for the removal of the full notebook cells\n",
       "var notebookContainer = gd.closest('#notebook-container');\n",
       "if (notebookContainer) {{\n",
       "    x.observe(notebookContainer, {childList: true});\n",
       "}}\n",
       "\n",
       "// Listen for the clearing of the current output cell\n",
       "var outputEl = gd.closest('.output');\n",
       "if (outputEl) {{\n",
       "    x.observe(outputEl, {childList: true});\n",
       "}}\n",
       "\n",
       "                        })\n",
       "                };\n",
       "                });\n",
       "            </script>\n",
       "        </div>"
      ]
     },
     "metadata": {},
     "output_type": "display_data"
    }
   ],
   "source": [
    "fig = go.Figure()\n",
    "\n",
    "#fig.add_trace(go.Scatter(x=dates_metrics, y=lpa,\n",
    "#                    mode='lines',\n",
    "#                    name='Lucro por Ação'))\n",
    "\n",
    "#fig.add_trace(go.Scatter(x=dates_metrics, y=vpa,\n",
    "#                    mode='lines',\n",
    "#                    name='Valor Patrimonial por Ação'))\n",
    "\n",
    "fig.add_trace(go.Scatter(x=dates_metrics, y=vi,\n",
    "                    mode='lines',\n",
    "                    name='Valor Intríseco'))\n",
    "\n",
    "fig.add_trace(go.Scatter(x=dates_valuation, y=prices,\n",
    "                    mode='lines',\n",
    "                    name='Valor Da Ação'))\n",
    "\n",
    "fig.show()"
   ]
  },
  {
   "cell_type": "code",
   "execution_count": 27,
   "metadata": {},
   "outputs": [
    {
     "data": {
      "image/png": "[encoded data removed]",
      "text/plain": [
       "<Figure size 1152x720 with 1 Axes>"
      ]
     },
     "metadata": {
      "needs_background": "light"
     },
     "output_type": "display_data"
    }
   ],
   "source": [
    "plt.rcParams['figure.figsize'] = (16,10)\n",
    "fig,ax = plt.subplots()\n",
    "ax.plot(x, y)\n",
    "plt.show()"
   ]
  },
  {
   "cell_type": "code",
   "execution_count": null,
   "metadata": {},
   "outputs": [],
   "source": []
  }
 ],
 "metadata": {
  "kernelspec": {
   "display_name": "Python 3",
   "language": "python",
   "name": "python3"
  },
  "language_info": {
   "codemirror_mode": {
    "name": "ipython",
    "version": 3
   },
   "file_extension": ".py",
   "mimetype": "text/x-python",
   "name": "python",
   "nbconvert_exporter": "python",
   "pygments_lexer": "ipython3",
   "version": "3.8.3"
  }
 },
 "nbformat": 4,
 "nbformat_minor": 4
}
